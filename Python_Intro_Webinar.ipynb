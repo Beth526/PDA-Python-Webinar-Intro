{
 "cells": [
  {
   "cell_type": "markdown",
   "metadata": {},
   "source": [
    "# Intro to Python\n",
    "\n",
    "Python is a popular object-oriented programming language that can be used in many scientific fields for analyzing, visualizing and modeling data. The current version is __version 3__. A fun fact is that this language was named after the British comedy group Monty Python!\n",
    "\n",
    "There are a lot of __free resouces online__ to learn python:\n",
    "\n",
    " - https://www.codecademy.com\n",
    " - https://www.datacamp.com\n",
    " - https://docs.python.org/3.8/tutorial/index.html\n",
    " - https://w3schools.com\n",
    " - Coursera courses such as \"Programming for Everybody (Getting Started with Python)\" from University of Michigan\n",
    " - Linkedin Learning courses (free with UIC login) such as \"Learning Python\"\n",
    "\n",
    "To use this __Jupyter Notebook__ you do not have to download anything, but a way I recommend to download and use Python is by downloading the __Anaconda platform__. From Anaconda you can launch and run Jupyter Notebooks and other code interpreters that you can use to write and run Python code.\n",
    "\n",
    "https://www.anaconda.com/distribution/\n",
    "\n",
    "In this short tutorial, I'll go over some basics of the Python programming language, including variables, data types, and functions. There is much more to learn, so I encourage checking out the above links after this introduction!\n"
   ]
  },
  {
   "cell_type": "markdown",
   "metadata": {},
   "source": [
    "## Jupyter Notebooks\n",
    "\n",
    "Jupyter Notebooks are interactive computing notebooks that support many programming languages. The notebook consists of boxes of code that can be edited and run with the results displayed immediately below.\n",
    "\n",
    "Click on the box below so it is highlighted in green, then press __shift + enter__ to run the Python code in the cell and print \"Hello World!\". \n",
    "\n",
    "Try changing the text that it prints and running it again!"
   ]
  },
  {
   "cell_type": "code",
   "execution_count": null,
   "metadata": {},
   "outputs": [],
   "source": [
    "print(\"Hello world!\")"
   ]
  },
  {
   "cell_type": "markdown",
   "metadata": {},
   "source": [
    "## Variables\n",
    "\n",
    "A variable is a named object. To create a variable the format is:\n",
    "\n",
    "__variable name__ = __object__\n",
    "\n",
    "Objects can be:\n",
    " - strings (text) in quotes like \"Hello\"\n",
    " - integers like 1\n",
    " - floats (decimal numbers) like 1.5\n",
    " - more complex things like lists and dictionaries \n",
    " \n",
    "Variable names should:\n",
    " - only contain letters, numbers and/or underscores\n",
    " - not start with a number\n",
    " - have underscores instead of spaces (snake_case)\n",
    " - not overwrite a word with another meaning in Python (if you type the word and it is any color other than black it is a special word! Try typing the word class)"
   ]
  },
  {
   "cell_type": "code",
   "execution_count": 127,
   "metadata": {},
   "outputs": [],
   "source": [
    "my_number = 10\n",
    "\n",
    "my_word = \"snakes\""
   ]
  },
  {
   "cell_type": "code",
   "execution_count": 128,
   "metadata": {},
   "outputs": [
    {
     "data": {
      "text/plain": [
       "10"
      ]
     },
     "execution_count": 128,
     "metadata": {},
     "output_type": "execute_result"
    }
   ],
   "source": [
    "my_number"
   ]
  },
  {
   "cell_type": "code",
   "execution_count": 129,
   "metadata": {},
   "outputs": [],
   "source": [
    "my_number = 20"
   ]
  },
  {
   "cell_type": "code",
   "execution_count": 130,
   "metadata": {},
   "outputs": [
    {
     "data": {
      "text/plain": [
       "20"
      ]
     },
     "execution_count": 130,
     "metadata": {},
     "output_type": "execute_result"
    }
   ],
   "source": [
    "my_number"
   ]
  },
  {
   "cell_type": "code",
   "execution_count": 131,
   "metadata": {},
   "outputs": [
    {
     "name": "stdout",
     "output_type": "stream",
     "text": [
      "100\n",
      "200\n"
     ]
    }
   ],
   "source": [
    "# you can assign multiple variables at the same time using commas\n",
    "# sometimes comes in handy when you are swapping variables for example\n",
    "\n",
    "my_number_1, my_number_2 = 100, 200\n",
    "\n",
    "print(my_number_1)\n",
    "print(my_number_2)"
   ]
  },
  {
   "cell_type": "markdown",
   "metadata": {},
   "source": [
    "## Mathematical operations\n",
    "\n",
    "The symbols we are all familiar with, and some others, are used for math in Python. \n",
    "\n",
    "| Operation                    | __ |\n",
    "| ---------------------------- | -- |\n",
    "| addition                     | +  |\n",
    "| subtraction                  | -  |\n",
    "| multiplication               | *  |\n",
    "| division                     |  / |\n",
    "| exponent                     | ** |\n",
    "| modulus (remainder)          |  % |\n",
    "| floor division (rounds down) | // |\n",
    "\n",
    "\n",
    "You can use parenthesis as you would normally in algera to seperate calculations.\n",
    "\n",
    "\n",
    "\n",
    "\n"
   ]
  },
  {
   "cell_type": "code",
   "execution_count": 132,
   "metadata": {},
   "outputs": [
    {
     "data": {
      "text/plain": [
       "4"
      ]
     },
     "execution_count": 132,
     "metadata": {},
     "output_type": "execute_result"
    }
   ],
   "source": [
    "(5 - 4) * 2**2"
   ]
  },
  {
   "cell_type": "code",
   "execution_count": 133,
   "metadata": {},
   "outputs": [
    {
     "data": {
      "text/plain": [
       "2"
      ]
     },
     "execution_count": 133,
     "metadata": {},
     "output_type": "execute_result"
    }
   ],
   "source": [
    "12 % 5"
   ]
  },
  {
   "cell_type": "code",
   "execution_count": 134,
   "metadata": {},
   "outputs": [
    {
     "data": {
      "text/plain": [
       "21"
      ]
     },
     "execution_count": 134,
     "metadata": {},
     "output_type": "execute_result"
    }
   ],
   "source": [
    "my_number + 1"
   ]
  },
  {
   "cell_type": "code",
   "execution_count": 135,
   "metadata": {},
   "outputs": [
    {
     "ename": "TypeError",
     "evalue": "can only concatenate str (not \"int\") to str",
     "output_type": "error",
     "traceback": [
      "\u001b[0;31m---------------------------------------------------------------------------\u001b[0m",
      "\u001b[0;31mTypeError\u001b[0m                                 Traceback (most recent call last)",
      "\u001b[0;32m<ipython-input-135-a9adee886f55>\u001b[0m in \u001b[0;36m<module>\u001b[0;34m\u001b[0m\n\u001b[1;32m      1\u001b[0m \u001b[0;31m#Why do you think this causes an error?\u001b[0m\u001b[0;34m\u001b[0m\u001b[0;34m\u001b[0m\u001b[0;34m\u001b[0m\u001b[0m\n\u001b[1;32m      2\u001b[0m \u001b[0;34m\u001b[0m\u001b[0m\n\u001b[0;32m----> 3\u001b[0;31m \u001b[0mmy_word\u001b[0m \u001b[0;34m+\u001b[0m \u001b[0;36m1\u001b[0m\u001b[0;34m\u001b[0m\u001b[0;34m\u001b[0m\u001b[0m\n\u001b[0m",
      "\u001b[0;31mTypeError\u001b[0m: can only concatenate str (not \"int\") to str"
     ]
    }
   ],
   "source": [
    "#Why do you think this causes an error?\n",
    "\n",
    "my_word + 1"
   ]
  },
  {
   "cell_type": "code",
   "execution_count": 137,
   "metadata": {},
   "outputs": [
    {
     "data": {
      "text/plain": [
       "'snakesWORD'"
      ]
     },
     "execution_count": 137,
     "metadata": {},
     "output_type": "execute_result"
    }
   ],
   "source": [
    "#Note the plus sign has a special function with strings\n",
    "#It can concatenate strings together\n",
    "\n",
    "my_word + \"WORD\""
   ]
  },
  {
   "cell_type": "markdown",
   "metadata": {},
   "source": [
    "## Boolean Values\n",
    "\n",
    "A boolean value just means a logical variable that can be true or false. \n",
    "\n",
    "True and False (note specific capitalization) are special words in python that represent boolean values.\n",
    "\n",
    "Boolean values can be calculated using comparison operators:\n",
    "\n",
    "| Operator       | __ |\n",
    "| -------------- | -- |\n",
    "| Less than      | <  |\n",
    "| Greater than   | >  |\n",
    "| Less than or equal to | <= |\n",
    "| Greater than or equal to | >= |\n",
    "| Equals         | == |\n",
    "| Does not equal | != |\n",
    "\n"
   ]
  },
  {
   "cell_type": "code",
   "execution_count": 138,
   "metadata": {},
   "outputs": [
    {
     "data": {
      "text/plain": [
       "True"
      ]
     },
     "execution_count": 138,
     "metadata": {},
     "output_type": "execute_result"
    }
   ],
   "source": [
    "10 < 20"
   ]
  },
  {
   "cell_type": "code",
   "execution_count": 139,
   "metadata": {},
   "outputs": [
    {
     "data": {
      "text/plain": [
       "False"
      ]
     },
     "execution_count": 139,
     "metadata": {},
     "output_type": "execute_result"
    }
   ],
   "source": [
    "15 /3 == 3"
   ]
  },
  {
   "cell_type": "code",
   "execution_count": 140,
   "metadata": {},
   "outputs": [
    {
     "data": {
      "text/plain": [
       "True"
      ]
     },
     "execution_count": 140,
     "metadata": {},
     "output_type": "execute_result"
    }
   ],
   "source": [
    "my_number != 15"
   ]
  },
  {
   "cell_type": "code",
   "execution_count": 141,
   "metadata": {},
   "outputs": [
    {
     "data": {
      "text/plain": [
       "True"
      ]
     },
     "execution_count": 141,
     "metadata": {},
     "output_type": "execute_result"
    }
   ],
   "source": [
    "my_word == \"snakes\""
   ]
  },
  {
   "cell_type": "code",
   "execution_count": 142,
   "metadata": {},
   "outputs": [
    {
     "data": {
      "text/plain": [
       "True"
      ]
     },
     "execution_count": 142,
     "metadata": {},
     "output_type": "execute_result"
    }
   ],
   "source": [
    "# with strings the greater than and less than operators work too\n",
    "# they tell you how strings appear in alphabetical order, 'z' > 'a'\n",
    "\n",
    "my_word > \"kittens\""
   ]
  },
  {
   "cell_type": "markdown",
   "metadata": {},
   "source": [
    "## Built-in functions\n",
    "\n",
    "A function takes some input/inputs, performs some operations on them, returning some new output.\n",
    "\n",
    "In Python many functions are available to use. https://docs.python.org/3/library/functions.html\n",
    "\n",
    "Many, many other functions can be accessed through importing Python packages, which won't be covered here. \n",
    "\n",
    "The format of a function is: \n",
    "\n",
    "__function name( arguments seperated by commas )__\n",
    "\n",
    " - The __function name__ is pre-set by Python and is performs a specific operation.\n",
    "\n",
    " - The __arguments__ can be one or many, and include the variable or object the function will act on, and possibly arguments that adjust the functions behavior. \n",
    "\n",
    " - If you are curious about a function, you can use the __help function__ to learn about it! Just type help(*function's name*)."
   ]
  },
  {
   "cell_type": "code",
   "execution_count": 143,
   "metadata": {},
   "outputs": [
    {
     "name": "stdout",
     "output_type": "stream",
     "text": [
      "Help on built-in function round in module builtins:\n",
      "\n",
      "round(number, ndigits=None)\n",
      "    Round a number to a given precision in decimal digits.\n",
      "    \n",
      "    The return value is an integer if ndigits is omitted or None.  Otherwise\n",
      "    the return value has the same type as the number.  ndigits may be negative.\n",
      "\n"
     ]
    }
   ],
   "source": [
    "help(round)"
   ]
  },
  {
   "cell_type": "code",
   "execution_count": 144,
   "metadata": {},
   "outputs": [
    {
     "data": {
      "text/plain": [
       "100"
      ]
     },
     "execution_count": 144,
     "metadata": {},
     "output_type": "execute_result"
    }
   ],
   "source": [
    "my_number = 100.2151\n",
    "\n",
    "round(my_number)"
   ]
  },
  {
   "cell_type": "code",
   "execution_count": 145,
   "metadata": {},
   "outputs": [
    {
     "data": {
      "text/plain": [
       "100.2"
      ]
     },
     "execution_count": 145,
     "metadata": {},
     "output_type": "execute_result"
    }
   ],
   "source": [
    "round(my_number, ndigits=1)"
   ]
  },
  {
   "cell_type": "code",
   "execution_count": 146,
   "metadata": {},
   "outputs": [
    {
     "data": {
      "text/plain": [
       "100.2"
      ]
     },
     "execution_count": 146,
     "metadata": {},
     "output_type": "execute_result"
    }
   ],
   "source": [
    "round(my_number, 1)"
   ]
  },
  {
   "cell_type": "code",
   "execution_count": 147,
   "metadata": {},
   "outputs": [
    {
     "data": {
      "text/plain": [
       "11000000"
      ]
     },
     "execution_count": 147,
     "metadata": {},
     "output_type": "execute_result"
    }
   ],
   "source": [
    "round(11410981, -6)"
   ]
  },
  {
   "cell_type": "markdown",
   "metadata": {},
   "source": [
    "## Defining your own function\n",
    "\n",
    "If you can't find a function to do what you want, you can write your own! \n",
    "\n",
    "The format of defining a function is:\n",
    "\n",
    "__def *function name*( *argument1* = *optional default value*, *argument2* = *optional default value* ):__\n",
    "    \n",
    "&emsp; &emsp;__*code that does something using the arguments*__\n",
    "    \n",
    "&emsp; &emsp;__return *desired output*__\n",
    "\n",
    "\n",
    " - The word __'def'__ is a special word that tells python you are defining a function. You can choose your own function name, and names for the arguments.\n",
    "\n",
    " - The __arguments__ are the inputs, and can have default values, whih are used if the argument isn't included when the function is called.\n",
    "\n",
    " - Inside the function is the __code__ that explains what to do with the arguments. Note the __tab__ in front, it's important!\n",
    "\n",
    " - Finally the special word __'return'__ is followed by what you want the output of the function to be.\n",
    "\n",
    "A simple example below should help clarify this:"
   ]
  },
  {
   "cell_type": "code",
   "execution_count": 148,
   "metadata": {},
   "outputs": [],
   "source": [
    "#This function will tell us if a number is divisble\n",
    "#by a specific divisor. The default divisor is 1.\n",
    "\n",
    "def divisible_by(number, divisor = 1):\n",
    "    \n",
    "    #The modulo operator calculates the remainder\n",
    "    remainder = number % divisor\n",
    "    \n",
    "    #The function returns a boolean value (True/False)\n",
    "    #telling us if the reamainder is 0 or not\n",
    "    return remainder == 0\n"
   ]
  },
  {
   "cell_type": "code",
   "execution_count": 149,
   "metadata": {},
   "outputs": [
    {
     "data": {
      "text/plain": [
       "True"
      ]
     },
     "execution_count": 149,
     "metadata": {},
     "output_type": "execute_result"
    }
   ],
   "source": [
    "#Now we can call the new function\n",
    "\n",
    "divisible_by(number = 49, divisor = 7)"
   ]
  },
  {
   "cell_type": "code",
   "execution_count": 150,
   "metadata": {},
   "outputs": [
    {
     "data": {
      "text/plain": [
       "False"
      ]
     },
     "execution_count": 150,
     "metadata": {},
     "output_type": "execute_result"
    }
   ],
   "source": [
    "#As long as you put the arguments in order,\n",
    "#there's no need to use thier names\n",
    "\n",
    "divisible_by(14, 3)"
   ]
  },
  {
   "cell_type": "code",
   "execution_count": 151,
   "metadata": {},
   "outputs": [
    {
     "data": {
      "text/plain": [
       "True"
      ]
     },
     "execution_count": 151,
     "metadata": {},
     "output_type": "execute_result"
    }
   ],
   "source": [
    "#If the divisor argument isn't included, \n",
    "#it defaults to 1 \n",
    "\n",
    "divisible_by(14)"
   ]
  },
  {
   "cell_type": "markdown",
   "metadata": {},
   "source": [
    "## A new data type: Lists\n",
    "\n",
    "Lists are ordered groups of data. They are also a \"class\" of objects, meaning they have special functions and features only defined for Lists.\n",
    "\n",
    "The way to create a list is:\n",
    "\n",
    "__variable name = [ element1, element2, element3, ..., elementn ]__\n",
    "\n",
    "\n",
    " - You can store multiple data types in a list, but usually it's just one type (strings or numeric).\n",
    "\n",
    " - You can also iterate over lists, which means pull out each element one at a time to do something with them."
   ]
  },
  {
   "cell_type": "code",
   "execution_count": 175,
   "metadata": {},
   "outputs": [],
   "source": [
    "my_grocery_list = [\"lemon\", \"apple\", \"broccoli\"]\n",
    "\n",
    "my_lottery_numbers = [10, 18, 21, 51, 66]"
   ]
  },
  {
   "cell_type": "markdown",
   "metadata": {},
   "source": [
    "### Accessing List by index\n",
    "\n",
    "The format is:\n",
    "\n",
    "__list name[index]__\n",
    "\n",
    " - __index__ is the number of the element in the list you want. \n",
    "\n",
    " - __Important: In Python indexes starts at 0, not 1!__ "
   ]
  },
  {
   "cell_type": "code",
   "execution_count": 176,
   "metadata": {},
   "outputs": [
    {
     "data": {
      "text/plain": [
       "'lemon'"
      ]
     },
     "execution_count": 176,
     "metadata": {},
     "output_type": "execute_result"
    }
   ],
   "source": [
    "my_grocery_list[0]"
   ]
  },
  {
   "cell_type": "code",
   "execution_count": 177,
   "metadata": {},
   "outputs": [
    {
     "data": {
      "text/plain": [
       "'apple'"
      ]
     },
     "execution_count": 177,
     "metadata": {},
     "output_type": "execute_result"
    }
   ],
   "source": [
    "my_grocery_list[1]"
   ]
  },
  {
   "cell_type": "code",
   "execution_count": 178,
   "metadata": {},
   "outputs": [
    {
     "data": {
      "text/plain": [
       "'broccoli'"
      ]
     },
     "execution_count": 178,
     "metadata": {},
     "output_type": "execute_result"
    }
   ],
   "source": [
    "#negative numbers start at the end of the list\n",
    "\n",
    "my_grocery_list[-1]"
   ]
  },
  {
   "cell_type": "code",
   "execution_count": 179,
   "metadata": {},
   "outputs": [
    {
     "data": {
      "text/plain": [
       "['lemon', 'apple']"
      ]
     },
     "execution_count": 179,
     "metadata": {},
     "output_type": "execute_result"
    }
   ],
   "source": [
    "#The colon is used to make subsets of lists\n",
    "#Here from index 0 UP TO index 2\n",
    "\n",
    "my_grocery_list[0:2]"
   ]
  },
  {
   "cell_type": "markdown",
   "metadata": {},
   "source": [
    "### Using functions on lists"
   ]
  },
  {
   "cell_type": "code",
   "execution_count": 180,
   "metadata": {},
   "outputs": [
    {
     "data": {
      "text/plain": [
       "['apple', 'broccoli', 'lemon']"
      ]
     },
     "execution_count": 180,
     "metadata": {},
     "output_type": "execute_result"
    }
   ],
   "source": [
    "sorted(my_grocery_list)"
   ]
  },
  {
   "cell_type": "code",
   "execution_count": 181,
   "metadata": {},
   "outputs": [
    {
     "data": {
      "text/plain": [
       "5"
      ]
     },
     "execution_count": 181,
     "metadata": {},
     "output_type": "execute_result"
    }
   ],
   "source": [
    "len(my_lottery_numbers)"
   ]
  },
  {
   "cell_type": "code",
   "execution_count": 182,
   "metadata": {},
   "outputs": [
    {
     "data": {
      "text/plain": [
       "66"
      ]
     },
     "execution_count": 182,
     "metadata": {},
     "output_type": "execute_result"
    }
   ],
   "source": [
    "max(my_lottery_numbers)"
   ]
  },
  {
   "cell_type": "markdown",
   "metadata": {},
   "source": [
    "### Methods\n",
    "\n",
    "Some other functions are only defined for the Lists class, and in this case they are called \"methods\".\n",
    "\n",
    "To use a method the format is:\n",
    "\n",
    "__list variable name.method name(arguments)__\n",
    "\n",
    "To see what methods are available for an object, based on its class, you can type __dir(object name)__. Ignore the ones that include underscores on either side for now."
   ]
  },
  {
   "cell_type": "code",
   "execution_count": 183,
   "metadata": {},
   "outputs": [],
   "source": [
    "#Remove the hashtag at the start of the next line to run it. It is a long output.\n",
    "\n",
    "#dir(my_grocery_list)"
   ]
  },
  {
   "cell_type": "code",
   "execution_count": 184,
   "metadata": {},
   "outputs": [
    {
     "data": {
      "text/plain": [
       "['lemon', 'apple', 'broccoli', 'potato']"
      ]
     },
     "execution_count": 184,
     "metadata": {},
     "output_type": "execute_result"
    }
   ],
   "source": [
    "my_grocery_list.append('potato')\n",
    "\n",
    "my_grocery_list"
   ]
  },
  {
   "cell_type": "code",
   "execution_count": 185,
   "metadata": {},
   "outputs": [
    {
     "data": {
      "text/plain": [
       "[10, 18, 21, 51]"
      ]
     },
     "execution_count": 185,
     "metadata": {},
     "output_type": "execute_result"
    }
   ],
   "source": [
    "my_lottery_numbers.remove(66)\n",
    "\n",
    "my_lottery_numbers"
   ]
  },
  {
   "cell_type": "code",
   "execution_count": 186,
   "metadata": {},
   "outputs": [
    {
     "data": {
      "text/plain": [
       "2"
      ]
     },
     "execution_count": 186,
     "metadata": {},
     "output_type": "execute_result"
    }
   ],
   "source": [
    "my_grocery_list.index(\"broccoli\")"
   ]
  },
  {
   "cell_type": "markdown",
   "metadata": {},
   "source": [
    "#### Using 'in' to check if an element is in a list"
   ]
  },
  {
   "cell_type": "code",
   "execution_count": 187,
   "metadata": {},
   "outputs": [
    {
     "data": {
      "text/plain": [
       "True"
      ]
     },
     "execution_count": 187,
     "metadata": {},
     "output_type": "execute_result"
    }
   ],
   "source": [
    "'apple' in my_grocery_list"
   ]
  },
  {
   "cell_type": "markdown",
   "metadata": {},
   "source": [
    "#### Using 'for' to iterate over elements in a list and print them"
   ]
  },
  {
   "cell_type": "code",
   "execution_count": 188,
   "metadata": {
    "scrolled": true
   },
   "outputs": [
    {
     "name": "stdout",
     "output_type": "stream",
     "text": [
      "lemon\n",
      "apple\n",
      "broccoli\n",
      "potato\n"
     ]
    }
   ],
   "source": [
    "for element in my_grocery_list:\n",
    "    print(element)"
   ]
  },
  {
   "cell_type": "markdown",
   "metadata": {},
   "source": [
    "#### Defining a function containing a 'for loop' with lists\n",
    "\n"
   ]
  },
  {
   "cell_type": "code",
   "execution_count": 189,
   "metadata": {},
   "outputs": [],
   "source": [
    "#This function will add the word \"pie\" to the end of all the items in a list of strings\n",
    "\n",
    "def dessertify(a_list):\n",
    "    #create a new empty list by typing empty brackets\n",
    "    dessert_list = []\n",
    "    \n",
    "    #make a for loop that iterates over a_list. The word 'item' could have been anything\n",
    "    #this loop runs once for each item in a_list\n",
    "    for item in a_list:\n",
    "        \n",
    "        #create a variable pie that is the original item + the word pie\n",
    "        #this variable is defined in the for loop, so it is written over every time the loop runs\n",
    "        pie = item + \" pie\"\n",
    "        \n",
    "        #append the current pie variable to the dessert_list\n",
    "        dessert_list.append(pie)\n",
    "    \n",
    "    #output the new list containing only pies\n",
    "    return dessert_list"
   ]
  },
  {
   "cell_type": "code",
   "execution_count": 190,
   "metadata": {},
   "outputs": [
    {
     "data": {
      "text/plain": [
       "['lemon pie', 'apple pie', 'broccoli pie', 'potato pie']"
      ]
     },
     "execution_count": 190,
     "metadata": {},
     "output_type": "execute_result"
    }
   ],
   "source": [
    "dessertify(my_grocery_list)"
   ]
  },
  {
   "cell_type": "markdown",
   "metadata": {},
   "source": [
    "## A new data type: Dictionaries\n",
    "\n",
    "Finally, we will introduce another common way to store data in Python. In a dictionary, the data are not ordered like in a list. \n",
    "\n",
    "Dictionaries contain data that are linked in a key - value relationship. \n",
    "\n",
    "To create a dictionary with two keys the format is:\n",
    "\n",
    "__dictionary variable name = { \"key1\" : \"value1\", \"key2\" : \"value2\"}__\n",
    "\n",
    " - Curly brackets instead of square brackets\n",
    " - The __key__ comes first followed by a colon, then the __value__\n",
    " - Key/value pairs are seperated by commas, there can be as many as you'd like\n",
    " - Values can be a list, can be different data types\n"
   ]
  },
  {
   "cell_type": "code",
   "execution_count": 191,
   "metadata": {},
   "outputs": [],
   "source": [
    "my_movie_ratings = {\"Avengers\" : 3, \"Shrek\" : 4, \"Jaws\" : 1}"
   ]
  },
  {
   "cell_type": "code",
   "execution_count": 192,
   "metadata": {},
   "outputs": [
    {
     "data": {
      "text/plain": [
       "1"
      ]
     },
     "execution_count": 192,
     "metadata": {},
     "output_type": "execute_result"
    }
   ],
   "source": [
    "#Print the value for a key\n",
    "\n",
    "my_movie_ratings[\"Jaws\"]"
   ]
  },
  {
   "cell_type": "code",
   "execution_count": 193,
   "metadata": {},
   "outputs": [
    {
     "data": {
      "text/plain": [
       "{'Avengers': 4, 'Shrek': 4, 'Jaws': 1}"
      ]
     },
     "execution_count": 193,
     "metadata": {},
     "output_type": "execute_result"
    }
   ],
   "source": [
    "#Update the value for a key\n",
    "\n",
    "my_movie_ratings.update({\"Avengers\" : 4})\n",
    "\n",
    "my_movie_ratings"
   ]
  },
  {
   "cell_type": "code",
   "execution_count": 194,
   "metadata": {},
   "outputs": [
    {
     "data": {
      "text/plain": [
       "{'Avengers': 4, 'Shrek': 4, 'Jaws': 1, 'IT': 0}"
      ]
     },
     "execution_count": 194,
     "metadata": {},
     "output_type": "execute_result"
    }
   ],
   "source": [
    "#Add a new key value pair\n",
    "\n",
    "my_movie_ratings[\"IT\"] = 0\n",
    "\n",
    "my_movie_ratings"
   ]
  },
  {
   "cell_type": "code",
   "execution_count": 195,
   "metadata": {},
   "outputs": [
    {
     "name": "stdout",
     "output_type": "stream",
     "text": [
      "I rate Avengers 4 stars.\n",
      "I rate Shrek 4 stars.\n",
      "I rate Jaws 1 stars.\n",
      "I rate IT 0 stars.\n"
     ]
    }
   ],
   "source": [
    "#print a statement using each key, value pair\n",
    "\n",
    "for key, value in my_movie_ratings.items():\n",
    "    print(\"I rate \" + key + \" \" + str(value) + \" stars.\")"
   ]
  },
  {
   "cell_type": "markdown",
   "metadata": {},
   "source": [
    "## Congratulations!\n",
    "\n",
    "Congratulations on learning about Python variables, basic operators, boolean values, functions, methods, lists and dictionaries! You know a lot of the basics now, and if you enjoyed this tutorial at all, you should spend some more time exploring the links at the top of the page.\n",
    "\n",
    "Right now, you may be wondering how these basic Python commands could be helpful at all in your research projects. The capabilities of Python are really expanded upon when you import Python packages, which contain many new functions and classes of objects. However, the basics are essential and can be very powerful tools when you are working with customizing or troubleshooting anything in the future.\n",
    "\n",
    "In the next webinar I'll talk about two Python packages, Pandas and Seaborn, that have very obvious practical applications with any data set."
   ]
  },
  {
   "cell_type": "code",
   "execution_count": null,
   "metadata": {},
   "outputs": [],
   "source": []
  }
 ],
 "metadata": {
  "kernelspec": {
   "display_name": "Python 3",
   "language": "python",
   "name": "python3"
  },
  "language_info": {
   "codemirror_mode": {
    "name": "ipython",
    "version": 3
   },
   "file_extension": ".py",
   "mimetype": "text/x-python",
   "name": "python",
   "nbconvert_exporter": "python",
   "pygments_lexer": "ipython3",
   "version": "3.7.3"
  }
 },
 "nbformat": 4,
 "nbformat_minor": 2
}
